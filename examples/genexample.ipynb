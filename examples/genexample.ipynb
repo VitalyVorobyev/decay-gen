{
 "cells": [
  {
   "cell_type": "markdown",
   "metadata": {},
   "source": [
    "# Example of events generation\n",
    "## 1. Generate python data structure"
   ]
  },
  {
   "cell_type": "code",
   "execution_count": 1,
   "metadata": {},
   "outputs": [
    {
     "name": "stderr",
     "output_type": "stream",
     "text": [
      "/home/vitaly/miniconda3/envs/tf2/lib/python3.8/site-packages/jax/lib/xla_bridge.py:125: UserWarning: No GPU/TPU found, falling back to CPU.\n",
      "  warnings.warn('No GPU/TPU found, falling back to CPU.')\n"
     ]
    }
   ],
   "source": [
    "from helixgen.phspdecay import generate\n",
    "import jax\n",
    "import jax.numpy as np\n",
    "import jax.random as rjax\n",
    "rng = rjax.PRNGKey(seed=0)"
   ]
  },
  {
   "cell_type": "code",
   "execution_count": 2,
   "metadata": {},
   "outputs": [],
   "source": [
    "w, events = generate(rng, '', 10)"
   ]
  },
  {
   "cell_type": "code",
   "execution_count": 3,
   "metadata": {},
   "outputs": [
    {
     "data": {
      "text/plain": [
       "{'D0_pi+': {'hel': Helix(d0=(10,), phi0=(10,), omega=(10,), z0=(10,), tanl=(10,)),\n",
       "  'helcov': (10, 5, 5),\n",
       "  'meas_mom': Momentum(px=(10,), py=(10,), pz=(10,)),\n",
       "  'meas_pos': Position(x=(10,), y=(10,), z=(10,)),\n",
       "  'mom': Momentum(px=(10,), py=(10,), pz=(10,)),\n",
       "  'pcl': (),\n",
       "  'pos': Position(x=(10,), y=(10,), z=(10,))},\n",
       " 'K*0': {'mom': Momentum(px=(10,), py=(10,), pz=(10,)),\n",
       "  'pcl': (),\n",
       "  'pos': Position(x=(10,), y=(10,), z=(10,))},\n",
       " 'K-': {'hel': Helix(d0=(10,), phi0=(10,), omega=(10,), z0=(10,), tanl=(10,)),\n",
       "  'helcov': (10, 5, 5),\n",
       "  'meas_mom': Momentum(px=(10,), py=(10,), pz=(10,)),\n",
       "  'meas_pos': Position(x=(10,), y=(10,), z=(10,)),\n",
       "  'mom': Momentum(px=(10,), py=(10,), pz=(10,)),\n",
       "  'pcl': (),\n",
       "  'pos': Position(x=(10,), y=(10,), z=(10,))},\n",
       " 'pi+': {'hel': Helix(d0=(10,), phi0=(10,), omega=(10,), z0=(10,), tanl=(10,)),\n",
       "  'helcov': (10, 5, 5),\n",
       "  'meas_mom': Momentum(px=(10,), py=(10,), pz=(10,)),\n",
       "  'meas_pos': Position(x=(10,), y=(10,), z=(10,)),\n",
       "  'mom': Momentum(px=(10,), py=(10,), pz=(10,)),\n",
       "  'pcl': (),\n",
       "  'pos': Position(x=(10,), y=(10,), z=(10,))}}"
      ]
     },
     "execution_count": 3,
     "metadata": {},
     "output_type": "execute_result"
    }
   ],
   "source": [
    "jax.tree_map(np.shape, events)"
   ]
  },
  {
   "cell_type": "markdown",
   "metadata": {},
   "source": [
    "$K^-$ helix can be obtained like this"
   ]
  },
  {
   "cell_type": "code",
   "execution_count": 4,
   "metadata": {},
   "outputs": [
    {
     "data": {
      "text/plain": [
       "DeviceArray([[ 1.8784378e-03,  2.4707544e+00, -7.2642660e-01,\n",
       "               4.6566039e-02, -1.2927436e+00],\n",
       "             [ 1.8784378e-03, -5.8064216e-01, -4.3403559e+00,\n",
       "               2.7084833e-01, -1.1174452e+01],\n",
       "             [ 1.8784035e-03, -5.1766461e-01, -2.2919002e+00,\n",
       "               1.4317392e-01, -6.9602547e+00],\n",
       "             [ 1.8784378e-03, -2.4175730e+00, -4.5019540e-01,\n",
       "               3.0302199e-02,  4.8053306e-01],\n",
       "             [ 1.8784378e-03, -2.0075829e+00, -5.6167579e-01,\n",
       "               3.6757685e-02,  8.5757804e-01],\n",
       "             [ 1.8784378e-03,  1.1063408e+00, -3.9014509e-01,\n",
       "               2.6929714e-02, -4.3492144e-01],\n",
       "             [ 1.8784378e-03,  1.3395319e+00, -4.2565790e-01,\n",
       "               2.8912904e-02, -7.8298289e-01],\n",
       "             [ 1.8784378e-03,  2.6951516e-01, -1.4496518e+00,\n",
       "               9.0889499e-02,  1.7629911e+00],\n",
       "             [ 1.8784378e-03, -3.3019242e+00, -7.1021038e-01,\n",
       "               4.5591213e-02,  1.0505638e+00],\n",
       "             [ 1.8783006e-03,  1.3481598e+00, -6.8185526e-01,\n",
       "               4.3890793e-02,  2.6645142e-01]], dtype=float32)"
      ]
     },
     "execution_count": 4,
     "metadata": {},
     "output_type": "execute_result"
    }
   ],
   "source": [
    "events['K-']['hel'].as_array"
   ]
  },
  {
   "cell_type": "markdown",
   "metadata": {},
   "source": [
    "Let's reproduce `generate` function step by step"
   ]
  },
  {
   "cell_type": "markdown",
   "metadata": {},
   "source": [
    "## 2. Generate json file"
   ]
  },
  {
   "cell_type": "code",
   "execution_count": 5,
   "metadata": {},
   "outputs": [],
   "source": [
    "from helixgen.mcproducer import produce_and_serialize_to_json\n",
    "import json"
   ]
  },
  {
   "cell_type": "code",
   "execution_count": 6,
   "metadata": {},
   "outputs": [],
   "source": [
    "produce_and_serialize_to_json(rng, decstr='', nevts=10, lbl='dkstpi')"
   ]
  },
  {
   "cell_type": "code",
   "execution_count": 7,
   "metadata": {},
   "outputs": [],
   "source": [
    "with open('dkstpi.json', 'r') as f:\n",
    "    evts = json.loads(f.read())"
   ]
  },
  {
   "cell_type": "markdown",
   "metadata": {},
   "source": [
    "Get the same $K^-$ helix"
   ]
  },
  {
   "cell_type": "code",
   "execution_count": 8,
   "metadata": {},
   "outputs": [
    {
     "data": {
      "text/plain": [
       "DeviceArray([[ 1.8784378e-03,  2.6390305e+00, -4.6821249e-01,\n",
       "               3.1330813e-02,  1.0649364e+00],\n",
       "             [ 1.8784378e-03,  2.8133566e+00, -1.9676927e+00,\n",
       "               1.2301609e-01,  1.3805670e+00],\n",
       "             [ 1.8784378e-03,  3.4768680e-01, -3.4942749e-01,\n",
       "               2.4705028e-02,  1.1730474e-01],\n",
       "             [ 1.8784378e-03,  2.0340087e+00, -1.4680680e+00,\n",
       "               9.2028856e-02, -3.0428123e-01],\n",
       "             [ 1.8784378e-03, -1.3022797e-01, -6.4299393e-01,\n",
       "               4.1569877e-02, -9.0085171e-02],\n",
       "             [ 1.8785064e-03, -1.6025252e+00, -1.2171190e+00,\n",
       "               7.6530941e-02, -3.3130622e+00],\n",
       "             [ 1.8784378e-03, -1.5317198e+00, -1.0310783e+00,\n",
       "               6.5095574e-02, -1.6932867e+00],\n",
       "             [ 1.8784378e-03,  2.9218659e+00, -4.5383522e-01,\n",
       "               3.0509450e-02, -1.0607923e+00],\n",
       "             [ 1.8784378e-03, -1.1591259e+00, -3.9068028e-01,\n",
       "               2.6959332e-02,  9.5540810e-01],\n",
       "             [ 1.8784378e-03,  2.3087442e+00, -9.3688959e-01,\n",
       "               5.9333242e-02, -1.5958034e+00]], dtype=float32)"
      ]
     },
     "execution_count": 8,
     "metadata": {},
     "output_type": "execute_result"
    }
   ],
   "source": [
    "np.array(evts['K-']['hel'])"
   ]
  }
 ],
 "metadata": {
  "kernelspec": {
   "display_name": "Python 3",
   "language": "python",
   "name": "python3"
  },
  "language_info": {
   "codemirror_mode": {
    "name": "ipython",
    "version": 3
   },
   "file_extension": ".py",
   "mimetype": "text/x-python",
   "name": "python",
   "nbconvert_exporter": "python",
   "pygments_lexer": "ipython3",
   "version": "3.8.3"
  }
 },
 "nbformat": 4,
 "nbformat_minor": 4
}
