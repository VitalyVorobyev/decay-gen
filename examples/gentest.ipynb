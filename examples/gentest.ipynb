{
 "cells": [
  {
   "cell_type": "code",
   "execution_count": 1,
   "metadata": {},
   "outputs": [],
   "source": [
    "from phasespace import GenParticle\n",
    "from particle import Particle\n",
    "import jax.numpy as np\n",
    "import jax.random as rjax"
   ]
  },
  {
   "cell_type": "code",
   "execution_count": 2,
   "metadata": {},
   "outputs": [],
   "source": [
    "# from phspdecay import generate"
   ]
  },
  {
   "cell_type": "code",
   "execution_count": 3,
   "metadata": {},
   "outputs": [],
   "source": [
    "# ws, genpcls = generate('', 3)\n",
    "# genpcls"
   ]
  },
  {
   "cell_type": "code",
   "execution_count": 4,
   "metadata": {},
   "outputs": [
    {
     "name": "stderr",
     "output_type": "stream",
     "text": [
      "/home/vitaly/miniconda3/envs/tf2/lib/python3.8/site-packages/jax/lib/xla_bridge.py:125: UserWarning: No GPU/TPU found, falling back to CPU.\n",
      "  warnings.warn('No GPU/TPU found, falling back to CPU.')\n"
     ]
    }
   ],
   "source": [
    "from cluster import Cluster, momentum_from_cluster_jacobian"
   ]
  },
  {
   "cell_type": "code",
   "execution_count": 5,
   "metadata": {},
   "outputs": [],
   "source": [
    "from helix import Helix"
   ]
  },
  {
   "cell_type": "code",
   "execution_count": 6,
   "metadata": {},
   "outputs": [],
   "source": [
    "def random_cluster(rng, N):\n",
    "    \"\"\" Helper function \"\"\"\n",
    "    energy = rjax.uniform(rng, (N,), minval=0., maxval=3.)\n",
    "    costh = rjax.uniform(rng, (N,), minval=-1., maxval=1.)\n",
    "    phi = rjax.uniform(rng, (N,), minval=-np.pi, maxval=np.pi)\n",
    "    return Cluster(energy, costh, phi)"
   ]
  },
  {
   "cell_type": "code",
   "execution_count": 7,
   "metadata": {},
   "outputs": [],
   "source": [
    "rng = rjax.PRNGKey(seed=0)"
   ]
  },
  {
   "cell_type": "code",
   "execution_count": 8,
   "metadata": {},
   "outputs": [],
   "source": [
    "N = 100\n",
    "clu = random_cluster(rng, N)\n",
    "jac = momentum_from_cluster_jacobian(clu)"
   ]
  },
  {
   "cell_type": "code",
   "execution_count": 9,
   "metadata": {},
   "outputs": [
    {
     "data": {
      "text/plain": [
       "(100, 1)"
      ]
     },
     "execution_count": 9,
     "metadata": {},
     "output_type": "execute_result"
    }
   ],
   "source": [
    "jac.px.energy.shape"
   ]
  },
  {
   "cell_type": "code",
   "execution_count": 10,
   "metadata": {},
   "outputs": [],
   "source": [
    "def test_momentum_from_cluster_jacobian():\n",
    "    \"\"\" \"\"\"\n",
    "    N = 100\n",
    "    clu = random_cluster(rng, N)\n",
    "    jac = momentum_from_cluster_jacobian(clu)\n",
    "\n",
    "    assert jac.px.energy.shape == (N, 1)\n",
    "    assert jac.py.energy.shape == (N, 1)\n",
    "    assert jac.pz.energy.shape == (N, 1)\n",
    "    assert jac.px.costh.shape == (N, 1)\n",
    "    assert jac.py.costh.shape == (N, 1)\n",
    "    assert jac.pz.costh.shape == (N, 1)\n",
    "    assert jac.px.phi.shape == (N, 1)\n",
    "    assert jac.py.phi.shape == (N, 1)\n",
    "    assert jac.pz.phi.shape == (N, 1)"
   ]
  },
  {
   "cell_type": "code",
   "execution_count": 11,
   "metadata": {},
   "outputs": [],
   "source": [
    "test_momentum_from_cluster_jacobian()"
   ]
  },
  {
   "cell_type": "code",
   "execution_count": 12,
   "metadata": {},
   "outputs": [],
   "source": [
    "from cluster import cartesian_to_cluster\n",
    "from cartesian import Position, Momentum"
   ]
  },
  {
   "cell_type": "code",
   "execution_count": 13,
   "metadata": {},
   "outputs": [],
   "source": [
    "N = 100\n",
    "pos = Position.from_ndarray(rjax.uniform(rng, (N, 3)))\n",
    "mom = Momentum.from_ndarray(rjax.uniform(rng, (N, 3)))\n",
    "clu = cartesian_to_cluster(pos, mom)"
   ]
  },
  {
   "cell_type": "code",
   "execution_count": 14,
   "metadata": {},
   "outputs": [
    {
     "data": {
      "text/plain": [
       "(100, 3)"
      ]
     },
     "execution_count": 14,
     "metadata": {},
     "output_type": "execute_result"
    }
   ],
   "source": [
    "clu.as_array.shape"
   ]
  },
  {
   "cell_type": "code",
   "execution_count": 15,
   "metadata": {},
   "outputs": [],
   "source": [
    "from cluster import sample_cluster_resolution, cluster_covariance\n",
    "import jax"
   ]
  },
  {
   "cell_type": "code",
   "execution_count": 16,
   "metadata": {},
   "outputs": [],
   "source": [
    "def test_cluster_covariance():\n",
    "    \"\"\" \"\"\"\n",
    "    N = 100\n",
    "    clu = random_cluster(rng, N)\n",
    "    cov = cluster_covariance(clu)\n",
    "\n",
    "    assert cov.shape == (N, 3, 3)"
   ]
  },
  {
   "cell_type": "code",
   "execution_count": 17,
   "metadata": {},
   "outputs": [],
   "source": [
    "test_cluster_covariance()"
   ]
  },
  {
   "cell_type": "code",
   "execution_count": 18,
   "metadata": {},
   "outputs": [],
   "source": [
    "def test_sample_cluster_resolution():\n",
    "    N = 100\n",
    "    clu = random_cluster(rng, N)\n",
    "    sclu, cov = sample_cluster_resolution(clu)\n",
    "\n",
    "    assert cov.shape == (N, 3, 3)\n",
    "    assert sclu.as_array.shape == (N, 3)"
   ]
  },
  {
   "cell_type": "code",
   "execution_count": 19,
   "metadata": {},
   "outputs": [],
   "source": [
    "test_sample_cluster_resolution()"
   ]
  },
  {
   "cell_type": "code",
   "execution_count": 20,
   "metadata": {},
   "outputs": [],
   "source": [
    "cov = cluster_covariance(clu)\n",
    "mvn = jax.vmap(lambda cov: rjax.multivariate_normal(rng, np.zeros(cov.shape[-1]), cov))\n",
    "dclu = mvn(cov)"
   ]
  },
  {
   "cell_type": "code",
   "execution_count": 21,
   "metadata": {},
   "outputs": [
    {
     "data": {
      "text/plain": [
       "(100, 3)"
      ]
     },
     "execution_count": 21,
     "metadata": {},
     "output_type": "execute_result"
    }
   ],
   "source": [
    "dclu.shape"
   ]
  },
  {
   "cell_type": "code",
   "execution_count": 22,
   "metadata": {},
   "outputs": [
    {
     "data": {
      "text/plain": [
       "(100, 3, 3)"
      ]
     },
     "execution_count": 22,
     "metadata": {},
     "output_type": "execute_result"
    }
   ],
   "source": [
    "cov.shape"
   ]
  },
  {
   "cell_type": "code",
   "execution_count": null,
   "metadata": {},
   "outputs": [],
   "source": []
  }
 ],
 "metadata": {
  "kernelspec": {
   "display_name": "Python 3",
   "language": "python",
   "name": "python3"
  },
  "language_info": {
   "codemirror_mode": {
    "name": "ipython",
    "version": 3
   },
   "file_extension": ".py",
   "mimetype": "text/x-python",
   "name": "python",
   "nbconvert_exporter": "python",
   "pygments_lexer": "ipython3",
   "version": "3.8.3"
  }
 },
 "nbformat": 4,
 "nbformat_minor": 4
}
