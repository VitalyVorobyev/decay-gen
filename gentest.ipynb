{
 "cells": [
  {
   "cell_type": "code",
   "execution_count": 1,
   "metadata": {},
   "outputs": [],
   "source": [
    "from phasespace import GenParticle\n",
    "from particle import Particle\n",
    "import jax.numpy as np"
   ]
  },
  {
   "cell_type": "code",
   "execution_count": 2,
   "metadata": {},
   "outputs": [
    {
     "name": "stderr",
     "output_type": "stream",
     "text": [
      "/home/vitaly/miniconda3/envs/tf2/lib/python3.8/site-packages/jax/lib/xla_bridge.py:125: UserWarning: No GPU/TPU found, falling back to CPU.\n",
      "  warnings.warn('No GPU/TPU found, falling back to CPU.')\n"
     ]
    }
   ],
   "source": [
    "from phspdecay import generate"
   ]
  },
  {
   "cell_type": "code",
   "execution_count": 4,
   "metadata": {},
   "outputs": [
    {
     "data": {
      "text/plain": [
       "{'pi+': {'pcl': <Particle: name=\"pi+\", pdgid=211, mass=139.57061 ± 0.00024 MeV>,\n",
       "  'mom': DeviceArray([[ 120.58977 , -161.10945 , -255.76114 ,  354.10715 ],\n",
       "               [-121.62043 ,  174.32674 ,   69.700356,  263.66537 ],\n",
       "               [-117.67724 ,  328.21484 ,  -29.21145 ,  376.70438 ]],            dtype=float32),\n",
       "  'pos': DeviceArray([[0., 0., 0.],\n",
       "               [0., 0., 0.],\n",
       "               [0., 0., 0.]], dtype=float32)},\n",
       " 'K-': {'pcl': <Particle: name=\"K-\", pdgid=-321, mass=493.677 ± 0.016 MeV>,\n",
       "  'mom': DeviceArray([[-252.39206,  390.3695 , -405.31036,  789.9896 ],\n",
       "               [ 624.2235 ,   74.10821,  369.1821 ,  880.4314 ],\n",
       "               [ 247.80574,  102.26007, -522.7899 ,  767.3924 ]],            dtype=float32),\n",
       "  'pos': DeviceArray([[0., 0., 0.],\n",
       "               [0., 0., 0.],\n",
       "               [0., 0., 0.]], dtype=float32)},\n",
       " 'K*0': {'pcl': <Particle: name=\"K*(892)0\", pdgid=313, mass=895.55 ± 0.20 MeV>,\n",
       "  'mom': DeviceArray([[-131.80229,  229.26006, -661.07153, 1144.0968 ],\n",
       "               [ 502.60306,  248.43495,  438.88245, 1144.0968 ],\n",
       "               [ 130.1285 ,  430.4749 , -552.00134, 1144.0968 ]],            dtype=float32),\n",
       "  'pos': DeviceArray([[0., 0., 0.],\n",
       "               [0., 0., 0.],\n",
       "               [0., 0., 0.]], dtype=float32)},\n",
       " 'D0_pi+': {'pcl': <Particle: name=\"pi+\", pdgid=211, mass=139.57061 ± 0.00024 MeV>,\n",
       "  'mom': DeviceArray([[ 131.80229, -229.26006,  661.07153,  725.5532 ],\n",
       "               [-502.60306, -248.43495, -438.88245,  725.5532 ],\n",
       "               [-130.1285 , -430.4749 ,  552.00134,  725.5532 ]],            dtype=float32),\n",
       "  'pos': DeviceArray([[0., 0., 0.],\n",
       "               [0., 0., 0.],\n",
       "               [0., 0., 0.]], dtype=float32)},\n",
       " 'root': {'gpcl': <phasespace.GenParticle: name='D+' mass=1869.65 children=[K*0, D0_pi+]>,\n",
       "  'pos': DeviceArray([[0., 0., 0.],\n",
       "               [0., 0., 0.],\n",
       "               [0., 0., 0.]], dtype=float32)}}"
      ]
     },
     "execution_count": 4,
     "metadata": {},
     "output_type": "execute_result"
    }
   ],
   "source": [
    "ws, genpcls = generate('', 3)\n",
    "genpcls"
   ]
  },
  {
   "cell_type": "code",
   "execution_count": null,
   "metadata": {},
   "outputs": [],
   "source": []
  }
 ],
 "metadata": {
  "kernelspec": {
   "display_name": "Python 3",
   "language": "python",
   "name": "python3"
  },
  "language_info": {
   "codemirror_mode": {
    "name": "ipython",
    "version": 3
   },
   "file_extension": ".py",
   "mimetype": "text/x-python",
   "name": "python",
   "nbconvert_exporter": "python",
   "pygments_lexer": "ipython3",
   "version": "3.8.3"
  }
 },
 "nbformat": 4,
 "nbformat_minor": 4
}
